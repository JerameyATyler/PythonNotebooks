{
  "nbformat": 4,
  "nbformat_minor": 0,
  "metadata": {
    "colab": {
      "name": "Untitled0.ipynb",
      "provenance": [],
      "authorship_tag": "ABX9TyMlIiLylLgNV8qjvbDo8M0M",
      "include_colab_link": true
    },
    "kernelspec": {
      "name": "python3",
      "display_name": "Python 3"
    },
    "language_info": {
      "name": "python"
    }
  },
  "cells": [
    {
      "cell_type": "markdown",
      "metadata": {
        "id": "view-in-github",
        "colab_type": "text"
      },
      "source": [
        "<a href=\"https://colab.research.google.com/github/JerameyATyler/PythonNotebooks/blob/main/06-14-2021.ipynb\" target=\"_parent\"><img src=\"https://colab.research.google.com/assets/colab-badge.svg\" alt=\"Open In Colab\"/></a>"
      ]
    },
    {
      "cell_type": "markdown",
      "metadata": {
        "id": "u2YzU62HQEyX"
      },
      "source": [
        "Python is what is considered a *scripting* or *scripted* language, the Python *interpreter* will *interpret* a *script* that you write into code that can be understood by the computer. Scripts are read from top to bottom with the interpreter performing the actions from left to right."
      ]
    },
    {
      "cell_type": "code",
      "metadata": {
        "id": "Whbu2LSfPllV",
        "outputId": "6e603322-3c90-4ab5-f246-3005c3598ee0",
        "colab": {
          "base_uri": "https://localhost:8080/"
        }
      },
      "source": [
        "x = 2\n",
        "print(\"x =\",x)\n",
        "x = x + 3\n",
        "print(\"x =\",x)"
      ],
      "execution_count": 2,
      "outputs": [
        {
          "output_type": "stream",
          "text": [
            "x = 2\n",
            "x = 5\n"
          ],
          "name": "stdout"
        }
      ]
    }
  ]
}